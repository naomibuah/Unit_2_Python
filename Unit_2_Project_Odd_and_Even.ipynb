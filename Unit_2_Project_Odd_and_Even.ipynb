{
  "nbformat": 4,
  "nbformat_minor": 0,
  "metadata": {
    "colab": {
      "name": "Unit 2 Project Odd and Even",
      "provenance": [],
      "authorship_tag": "ABX9TyMlOm7bopLDZ4Zm+NIV5mUr",
      "include_colab_link": true
    },
    "kernelspec": {
      "name": "python3",
      "display_name": "Python 3"
    }
  },
  "cells": [
    {
      "cell_type": "markdown",
      "metadata": {
        "id": "view-in-github",
        "colab_type": "text"
      },
      "source": [
        "<a href=\"https://colab.research.google.com/github/naomibuah/Unit_2_Python/blob/main/Unit_2_Project_Odd_and_Even.ipynb\" target=\"_parent\"><img src=\"https://colab.research.google.com/assets/colab-badge.svg\" alt=\"Open In Colab\"/></a>"
      ]
    },
    {
      "cell_type": "code",
      "metadata": {
        "id": "exNLKzg52bnA"
      },
      "source": [
        ""
      ],
      "execution_count": 34,
      "outputs": []
    },
    {
      "cell_type": "code",
      "metadata": {
        "colab": {
          "base_uri": "https://localhost:8080/"
        },
        "id": "qNEFJ3CIrxxx",
        "outputId": "5b6a4df6-200c-416f-9548-80581a513135"
      },
      "source": [
        "# Here I am asking for user input of a number\r\n",
        "count = int(input(\"Enter a number of your choice: \" ))\r\n",
        "\r\n",
        "# This is to check if the number is even or odd\r\n",
        "if count % 2 == 0:\r\n",
        "  print(\"This number is even!\")\r\n",
        "else:\r\n",
        "  print(\"This number is odd!\")\r\n",
        "\r\n",
        "# This is to check if the number is a multiple of four\r\n",
        "if count % 4 == 0:\r\n",
        "  print(\"This number is also a multiple of four\")\r\n",
        "\r\n",
        "# This code is to see if num and check are divisible by one another\r\n",
        "num = input(\"Type in any number: \")\r\n",
        "check = input(\"Choose any number to check if the two numbers are divisible: \")\r\n",
        "\r\n",
        "if float(num) % float(check) == 0:\r\n",
        " print(\"Hooray! These two numbers are divisble by each other.\")\r\n",
        "elif float(num) % float(check) !=0:\r\n",
        "  print(\"Sorry those two numbers aren't divisible.\")\r\n",
        "\r\n",
        "\r\n",
        "\r\n",
        "\r\n"
      ],
      "execution_count": 51,
      "outputs": [
        {
          "output_type": "stream",
          "text": [
            "Enter a number of your choice: 75\n",
            "This number is odd!\n",
            "Type in any number: 75\n",
            "Choose any number to check if the two numbers are divisible 10\n",
            "Sorry those two numbers aren't divisible\n"
          ],
          "name": "stdout"
        }
      ]
    },
    {
      "cell_type": "code",
      "metadata": {
        "id": "y-9HStj82ft-"
      },
      "source": [
        ""
      ],
      "execution_count": null,
      "outputs": []
    }
  ]
}