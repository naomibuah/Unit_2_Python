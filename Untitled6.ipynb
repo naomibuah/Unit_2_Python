{
  "nbformat": 4,
  "nbformat_minor": 0,
  "metadata": {
    "colab": {
      "name": "Untitled6.ipynb",
      "provenance": [],
      "authorship_tag": "ABX9TyPI5yHnunshOM0A0WriOikt",
      "include_colab_link": true
    },
    "kernelspec": {
      "name": "python3",
      "display_name": "Python 3"
    }
  },
  "cells": [
    {
      "cell_type": "markdown",
      "metadata": {
        "id": "view-in-github",
        "colab_type": "text"
      },
      "source": [
        "<a href=\"https://colab.research.google.com/github/naomibuah/Unit_2_Python/blob/main/Untitled6.ipynb\" target=\"_parent\"><img src=\"https://colab.research.google.com/assets/colab-badge.svg\" alt=\"Open In Colab\"/></a>"
      ]
    },
    {
      "cell_type": "code",
      "metadata": {
        "colab": {
          "base_uri": "https://localhost:8080/"
        },
        "id": "DmPtSNsjStyp",
        "outputId": "2bce6fc0-753c-479a-a45c-d220e441ec61"
      },
      "source": [
        "usernames = ['garnet_admin', 'amythest_009','mischiefmaker10','tigermillionare','jackrose']\r\n",
        "for name in usernames:\r\n",
        "  if name == 'garnet_admin':\r\n",
        "   print(\"Glad to see you back adminstrator: \" + name +\"!\" )\r\n",
        "  else:\r\n",
        "   print(\"Welcome back user: \"+ name)\r\n"
      ],
      "execution_count": 10,
      "outputs": [
        {
          "output_type": "stream",
          "text": [
            "Glad to see you back adminstrator: garnet_admin!\n",
            "Welcome back user: amythest_009\n",
            "Welcome back user: mischiefmaker10\n",
            "Welcome back user: tigermillionare\n",
            "Welcome back user: jackrose\n"
          ],
          "name": "stdout"
        }
      ]
    },
    {
      "cell_type": "code",
      "metadata": {
        "colab": {
          "base_uri": "https://localhost:8080/"
        },
        "id": "FPurl5LYTjA_",
        "outputId": "e3a61f21-1a3c-439f-b6d0-efeeae810998"
      },
      "source": [
        "for number in range(1,11):\r\n",
        "  if number == 1:\r\n",
        "    print(\"1st\")\r\n",
        "  elif number == 2:\r\n",
        "    print(\"2nd\")\r\n",
        "  elif number == 3:\r\n",
        "    print(\"3rd\")\r\n",
        "  elif number == 4:\r\n",
        "    print(\"4th\")\r\n",
        "  elif number == 5:\r\n",
        "    print(\"5th\")\r\n",
        "  elif number == 6:\r\n",
        "    print(\"6th\")\r\n",
        "  elif number == 7:\r\n",
        "    print(\"7th\")\r\n",
        "  elif number == 8:\r\n",
        "    print(\"8th\")  \r\n",
        "  elif number == 9:\r\n",
        "    print(\"9th\")\r\n",
        "  else:\r\n",
        "    print(\"10th\")"
      ],
      "execution_count": 11,
      "outputs": [
        {
          "output_type": "stream",
          "text": [
            "1st\n",
            "2nd\n",
            "3rd\n",
            "4th\n",
            "5th\n",
            "6th\n",
            "7th\n",
            "8th\n",
            "9th\n",
            "10th\n"
          ],
          "name": "stdout"
        }
      ]
    }
  ]
}