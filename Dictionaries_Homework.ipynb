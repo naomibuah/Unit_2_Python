{
  "nbformat": 4,
  "nbformat_minor": 0,
  "metadata": {
    "colab": {
      "name": "Dictionaries Homework",
      "provenance": [],
      "authorship_tag": "ABX9TyMCbr2lwN21XKN7mFWj1jM5",
      "include_colab_link": true
    },
    "kernelspec": {
      "name": "python3",
      "display_name": "Python 3"
    }
  },
  "cells": [
    {
      "cell_type": "markdown",
      "metadata": {
        "id": "view-in-github",
        "colab_type": "text"
      },
      "source": [
        "<a href=\"https://colab.research.google.com/github/naomibuah/Unit_2_Python/blob/main/Dictionaries_Homework.ipynb\" target=\"_parent\"><img src=\"https://colab.research.google.com/assets/colab-badge.svg\" alt=\"Open In Colab\"/></a>"
      ]
    },
    {
      "cell_type": "code",
      "metadata": {
        "colab": {
          "base_uri": "https://localhost:8080/"
        },
        "id": "hrT4inhyC3Qx",
        "outputId": "47884360-869d-4e18-cc7a-85be12ada0d5"
      },
      "source": [
        "#This dictionary is just holding  someone's last and first name\r\n",
        "student1 = { \"firstname\": \"Sandra\",\r\n",
        "            \"lastname\" : \"Sanders\"}\r\n",
        "print(student1)\r\n",
        "\r\n",
        "print(\"Hello, \"+ student1[\"firstname\"] + ' '+ student1[\"lastname\"]+'!')"
      ],
      "execution_count": null,
      "outputs": [
        {
          "output_type": "stream",
          "text": [
            "{'firstname': 'Sandra', 'lastname': 'Sanders'}\n",
            "Hello, Sandra Sanders!\n"
          ],
          "name": "stdout"
        }
      ]
    },
    {
      "cell_type": "code",
      "metadata": {
        "id": "20p--jvAnIlC"
      },
      "source": [
        ""
      ],
      "execution_count": null,
      "outputs": []
    },
    {
      "cell_type": "code",
      "metadata": {
        "colab": {
          "base_uri": "https://localhost:8080/"
        },
        "id": "i2fjeDYeG-WH",
        "outputId": "89c4a04f-7751-41c8-ec5b-37658eef60d6"
      },
      "source": [
        "#This is a dictionary that stores people's favorite colors\r\n",
        "favoritecolors ={\r\n",
        "\"Sandra\" : \"Purple\",\r\n",
        "\"Bryan\" : \"Red\"}\r\n",
        "\r\n",
        "for keys, values in favoritecolors.items():\r\n",
        "  print(keys +\": \"+ values)\r\n",
        "\r\n"
      ],
      "execution_count": 15,
      "outputs": [
        {
          "output_type": "stream",
          "text": [
            "Sandra: Purple\n",
            "Bryan: Red\n"
          ],
          "name": "stdout"
        }
      ]
    },
    {
      "cell_type": "code",
      "metadata": {
        "colab": {
          "base_uri": "https://localhost:8080/"
        },
        "id": "HFBTBDxjnMxJ",
        "outputId": "923b7bc7-52ab-425a-f83b-ccc66ba8bafe"
      },
      "source": [
        "#This is an nested dictionary for identifiers on an ID\r\n",
        "people_ID ={1:{'name': 'Derrick', \"height\": \"5'8\", \"eyes\": \"brown\", \"permit\" : \"no\"},\r\n",
        "2:{\"name\": \"Ashley\",\"height\": \"5'10\", \"eyes\": \"green\",\"permit\": \"Yes\"},\r\n",
        "3:{\"name\": \"Keri\", \"height\": \"5'4\", \"eyes\": \"blue\", \"permit\":\"Yes\"}}\r\n",
        "\r\n",
        "print(people_ID[2]['name'])\r\n",
        "print(people_ID[2][\"permit\"])\r\n"
      ],
      "execution_count": 14,
      "outputs": [
        {
          "output_type": "stream",
          "text": [
            "Ashley\n",
            "Yes\n"
          ],
          "name": "stdout"
        }
      ]
    }
  ]
}