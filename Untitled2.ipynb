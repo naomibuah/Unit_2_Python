{
  "nbformat": 4,
  "nbformat_minor": 0,
  "metadata": {
    "colab": {
      "name": "Untitled2.ipynb",
      "provenance": [],
      "authorship_tag": "ABX9TyOKdi4tOV0UIJR/eoy8X41Y",
      "include_colab_link": true
    },
    "kernelspec": {
      "name": "python3",
      "display_name": "Python 3"
    }
  },
  "cells": [
    {
      "cell_type": "markdown",
      "metadata": {
        "id": "view-in-github",
        "colab_type": "text"
      },
      "source": [
        "<a href=\"https://colab.research.google.com/github/naomibuah/Unit_2_Python/blob/main/Untitled2.ipynb\" target=\"_parent\"><img src=\"https://colab.research.google.com/assets/colab-badge.svg\" alt=\"Open In Colab\"/></a>"
      ]
    },
    {
      "cell_type": "code",
      "metadata": {
        "colab": {
          "base_uri": "https://localhost:8080/"
        },
        "id": "VuBUQ--AhqHU",
        "outputId": "cdf427fd-1acb-4bb1-8c19-1bfbc707df1a"
      },
      "source": [
        "favtvshows = [\"we bare bears\", \"american dad\", \"steven universe\", \"lovecraft country\", \"30 rock\"]\r\n",
        "\r\n",
        "print(favtvshows[0].title())\r\n",
        "print(favtvshows[1].title())\r\n",
        "print(favtvshows[2].title())\r\n",
        "print(favtvshows[3].title())\r\n",
        "print(favtvshows[4].title())\r\n",
        "\r\n",
        "print(sorted(favtvshows))\r\n",
        "print(favtvshows)\r\n",
        "\r\n",
        "sorted(favtvshows, reverse=True)\r\n",
        "print(\"The number of TV shows I like are:\", len(favtvshows))\r\n",
        "\r\n",
        "\r\n",
        "\r\n",
        "\r\n"
      ],
      "execution_count": 43,
      "outputs": [
        {
          "output_type": "stream",
          "text": [
            "We Bare Bears\n",
            "American Dad\n",
            "Steven Universe\n",
            "Lovecraft Country\n",
            "30 Rock\n",
            "['30 rock', 'american dad', 'lovecraft country', 'steven universe', 'we bare bears']\n",
            "['we bare bears', 'american dad', 'steven universe', 'lovecraft country', '30 rock']\n",
            "The number of TV shows I like are: 5\n"
          ],
          "name": "stdout"
        }
      ]
    }
  ]
}