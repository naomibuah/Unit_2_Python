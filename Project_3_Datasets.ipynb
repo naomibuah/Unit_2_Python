{
  "nbformat": 4,
  "nbformat_minor": 0,
  "metadata": {
    "colab": {
      "name": "Project 3 Datasets",
      "provenance": [],
      "authorship_tag": "ABX9TyOPaQVbgAcQx74S+MYQeAIT",
      "include_colab_link": true
    },
    "kernelspec": {
      "name": "python3",
      "display_name": "Python 3"
    }
  },
  "cells": [
    {
      "cell_type": "markdown",
      "metadata": {
        "id": "view-in-github",
        "colab_type": "text"
      },
      "source": [
        "<a href=\"https://colab.research.google.com/github/naomibuah/Unit_2_Python/blob/main/Project_3_Datasets.ipynb\" target=\"_parent\"><img src=\"https://colab.research.google.com/assets/colab-badge.svg\" alt=\"Open In Colab\"/></a>"
      ]
    },
    {
      "cell_type": "code",
      "metadata": {
        "id": "jUtd4AQkeCQ5"
      },
      "source": [
        ""
      ],
      "execution_count": null,
      "outputs": []
    },
    {
      "cell_type": "code",
      "metadata": {
        "colab": {
          "base_uri": "https://localhost:8080/",
          "height": 773
        },
        "id": "tpVcOlWbVifz",
        "outputId": "168a8a0e-8ccf-4bbb-f875-3b1d050f4791"
      },
      "source": [
        "import numpy as np\r\n",
        "import pandas as pd\r\n",
        "import matplotlib.pyplot as plt\r\n",
        "import seaborn as sns\r\n",
        "%matplotlib inline\r\n",
        "#This is the dataset we are analyzing\r\n",
        "covid_df = pd.read_csv('https://raw.githubusercontent.com/nytimes/covid-19-data/master/us-counties.csv')\r\n",
        "covid_df\r\n",
        "#covid_df_call is to filter out the state and county of California\r\n",
        "covid_df_cali = covid_df[(covid_df['state'] == 'California') & (covid_df['county'] == 'Los Angeles')]\r\n",
        "covid_df_cali\r\n",
        "#This to only look at the dates from the last 30 days starting on 1-15-20\r\n",
        "covid_df_cali = covid_df_cali[(covid_df['date'] <= '2021-01-15') & (covid_df_cali['date'] >= '2020-12-15')]\r\n",
        "#This is to filter out cases and deaths in addition to state,county, and date \r\n",
        "covid_df_cali[['state','county','cases','deaths','date']]\r\n",
        "covid_df_cali\r\n",
        "\r\n",
        "#This is to examine New York's covid cases and it is also filtered by state, county, date, deaths, and cases\r\n",
        "covid_df_NY = covid_df[['state','county','cases','deaths','date']]\r\n",
        "covid_df_NY = covid_df_NY[(covid_df_NY['state'] == 'New York') & (covid_df_NY['county'] =='New York City')]\r\n",
        "\r\n",
        "covid_df_NY = covid_df_NY[(covid_df_NY['date'] <= '2021-01-15') & (covid_df_NY['date'] >='2020-12-15')]\r\n",
        "covid_df_NY\r\n",
        "\r\n",
        "#Here is a visualization of how many deaths occured due to covid in both states . It is safe to say that when compared New York City had a higher peak of deaths compared to Los Angeles.\r\n",
        "#New Yorks peak hovers around 24,600 deaths in the last 30 days while Los Angeles hovers around 9,000 in total.\r\n",
        "sns.displot(covid_df_NY['deaths'])\r\n",
        "sns.displot(covid_df_cali['deaths'])\r\n"
      ],
      "execution_count": 48,
      "outputs": [
        {
          "output_type": "stream",
          "text": [
            "/usr/local/lib/python3.6/dist-packages/ipykernel_launcher.py:11: UserWarning: Boolean Series key will be reindexed to match DataFrame index.\n",
            "  # This is added back by InteractiveShellApp.init_path()\n"
          ],
          "name": "stderr"
        },
        {
          "output_type": "execute_result",
          "data": {
            "text/plain": [
              "<seaborn.axisgrid.FacetGrid at 0x7f287a885fd0>"
            ]
          },
          "metadata": {
            "tags": []
          },
          "execution_count": 48
        },
        {
          "output_type": "display_data",
          "data": {
            "image/png": "[encoded data removed]",
            "text/plain": [
              "<Figure size 360x360 with 1 Axes>"
            ]
          },
          "metadata": {
            "tags": [],
            "needs_background": "light"
          }
        },
        {
          "output_type": "display_data",
          "data": {
            "image/png": "[encoded data removed]",
            "text/plain": [
              "<Figure size 360x360 with 1 Axes>"
            ]
          },
          "metadata": {
            "tags": [],
            "needs_background": "light"
          }
        }
      ]
    }
  ]
}