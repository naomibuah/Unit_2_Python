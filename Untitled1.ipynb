{
  "nbformat": 4,
  "nbformat_minor": 0,
  "metadata": {
    "colab": {
      "name": "Untitled1.ipynb",
      "provenance": [],
      "authorship_tag": "ABX9TyPFS1CGykPjQX4IS5WdznPP",
      "include_colab_link": true
    },
    "kernelspec": {
      "name": "python3",
      "display_name": "Python 3"
    }
  },
  "cells": [
    {
      "cell_type": "markdown",
      "metadata": {
        "id": "view-in-github",
        "colab_type": "text"
      },
      "source": [
        "<a href=\"https://colab.research.google.com/github/naomibuah/Unit_2_Python/blob/main/Untitled1.ipynb\" target=\"_parent\"><img src=\"https://colab.research.google.com/assets/colab-badge.svg\" alt=\"Open In Colab\"/></a>"
      ]
    },
    {
      "cell_type": "code",
      "metadata": {
        "colab": {
          "base_uri": "https://localhost:8080/"
        },
        "id": "7WkCdKOTJlWj",
        "outputId": "0fc8b1d1-6675-4c87-f7e0-ec7eee5a15e4"
      },
      "source": [
        "food = ['pizza','hamburgers', 'chicken', 'burritos', 'ice cream' ]\r\n",
        "\r\n",
        "for x in food:\r\n",
        "  print(x + \" is my favorite food to eat!\")\r\n",
        "  \r\n",
        "\r\n",
        "print(\"Thanks for reading?\")\r\n",
        "\r\n",
        "\r\n",
        "for num in range(2,21,2):\r\n",
        "  print(num)\r\n",
        "\r\n",
        "food.sort()\r\n",
        "print(food)\r\n",
        "\r\n",
        "print(food[0:3])\r\n",
        "\r\n",
        "for x in food [3:5]:\r\n",
        "  print(x.title())\r\n"
      ],
      "execution_count": 49,
      "outputs": [
        {
          "output_type": "stream",
          "text": [
            "pizza is my favorite food to eat!\n",
            "hamburgers is my favorite food to eat!\n",
            "chicken is my favorite food to eat!\n",
            "burritos is my favorite food to eat!\n",
            "ice cream is my favorite food to eat!\n",
            "Thanks for reading?\n",
            "2\n",
            "4\n",
            "6\n",
            "8\n",
            "10\n",
            "12\n",
            "14\n",
            "16\n",
            "18\n",
            "20\n",
            "['burritos', 'chicken', 'hamburgers', 'ice cream', 'pizza']\n",
            "['burritos', 'chicken', 'hamburgers']\n",
            "Ice Cream\n",
            "Pizza\n"
          ],
          "name": "stdout"
        }
      ]
    }
  ]
}